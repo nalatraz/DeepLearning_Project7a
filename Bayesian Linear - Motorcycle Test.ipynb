{
 "cells": [
  {
   "cell_type": "code",
   "execution_count": 1,
   "id": "754ad78b",
   "metadata": {},
   "outputs": [],
   "source": [
    "# PyTorch Imports\n",
    "import torch\n",
    "import torch.nn as nn\n",
    "from torch.nn import Module\n",
    "import torch.nn.init as init\n",
    "import torch.nn.functional as F\n",
    "import torch.optim as optim\n",
    "from torch.autograd import Variable\n",
    "from torch.distributions import Normal\n",
    "\n",
    "# Basic Python Imports\n",
    "import math\n",
    "import numpy as np\n",
    "import pandas as pd\n",
    "import matplotlib.pyplot as plt\n",
    "\n",
    "# Module Imports\n",
    "from Modules.BayesLinear import BayesLinear\n",
    "from Modules.Loss import BKLLoss\n",
    "from Modules.BayesHarry import BayesLinear as BayesHarry\n",
    "\n",
    "import random\n",
    "from sklearn.preprocessing import StandardScaler\n",
    "\n",
    "random.seed(10)"
   ]
  },
  {
   "cell_type": "markdown",
   "id": "92de16b8",
   "metadata": {},
   "source": [
    "### Load data\n",
    "Format for Bayesian NN. Visualisation of the time series."
   ]
  },
  {
   "cell_type": "code",
   "execution_count": 2,
   "id": "1e071089",
   "metadata": {},
   "outputs": [
    {
     "data": {
      "image/png": "[encoded data removed]",
      "text/plain": [
       "<Figure size 432x288 with 1 Axes>"
      ]
     },
     "metadata": {
      "needs_background": "light"
     },
     "output_type": "display_data"
    },
    {
     "name": "stdout",
     "output_type": "stream",
     "text": [
      "X : torch.Size([133, 1]) Y : torch.Size([133, 1, 1])\n"
     ]
    }
   ],
   "source": [
    "# Load data\n",
    "data = pd.read_csv('Data/motorcycle.csv')\n",
    "\n",
    "# Conversion to float tensors \n",
    "x = np.array(data['times'])\n",
    "y = np.array(data['accel'])\n",
    "\n",
    "#y = StandardScaler().fit_transform(y.reshape(-1,1))\n",
    "x = torch.unsqueeze(torch.from_numpy(x), dim=1)\n",
    "#y = torch.from_numpy(y)\n",
    "\n",
    "y = StandardScaler().fit_transform(y.reshape(-1,1))\n",
    "y = torch.unsqueeze(torch.from_numpy(y), dim=1)\n",
    "\n",
    "x = x.float()\n",
    "y = y.float()\n",
    "\n",
    "x_np = x.squeeze().numpy()\n",
    "y_np = y.squeeze().numpy()\n",
    "\n",
    "# Plotting the timeseries\n",
    "plt.figure()\n",
    "plt.scatter(x, y)\n",
    "plt.grid()\n",
    "plt.show()\n",
    "\n",
    "print('X :', x.shape, 'Y :', y.shape)"
   ]
  },
  {
   "cell_type": "markdown",
   "id": "37786f82",
   "metadata": {},
   "source": [
    "### Genetate Additional Data"
   ]
  },
  {
   "cell_type": "code",
   "execution_count": 3,
   "id": "ce7cca81",
   "metadata": {},
   "outputs": [
    {
     "data": {
      "image/png": "[encoded data removed]",
      "text/plain": [
       "<Figure size 432x288 with 1 Axes>"
      ]
     },
     "metadata": {
      "needs_background": "light"
     },
     "output_type": "display_data"
    }
   ],
   "source": [
    "gp_mean = [0.5107,0.5032, 0.4939, 0.4843, 0.4765, 0.4718, 0.4713, 0.4748, 0.4805, 0.4856,\n",
    "0.4870, 0.4824, 0.4724, 0.4604, 0.4523, 0.4543, 0.4695, 0.4953, 0.5216, 0.5319,\n",
    "0.5067, 0.4284, 0.2868, 0.0825, -0.1722, -0.4559, -0.7433, -1.0112, -1.2435, -1.4339,\n",
    "-1.5851, -1.7049, -1.8015, -1.8788, -1.9333, -1.9549, -1.9298, -1.8453, -1.6947, -1.4804,\n",
    "-1.2140, -0.9140, -0.6013, -0.2950, -0.0080, 0.2536, 0.4900, 0.7046, 0.9006, 1.0778,\n",
    "1.2317, 1.3542, 1.4362, 1.4710, 1.4573, 1.4012, 1.3147, 1.2139, 1.1143, 1.0277,\n",
    "0.9589, 0.9056, 0.8605, 0.8146, 0.7605, 0.6959, 0.6241, 0.5533, 0.4935, 0.4538,\n",
    "0.4395, 0.4501, 0.4795, 0.5173, 0.5507, 0.5678, 0.5600, 0.5241, 0.4632, 0.3869,\n",
    "0.3092, 0.2456, 0.2098, 0.2103, 0.2482, 0.3164, 0.4015, 0.4868, 0.5568, 0.6006,\n",
    "0.6147, 0.6033, 0.5769, 0.5487, 0.5311, 0.5324, 0.5549, 0.5950, 0.6441, 0.6919,\n",
    "0.7285]\n",
    "\n",
    "gp_stddev = [0.0477, 0.0400, 0.0463, 0.0514, 0.0529, 0.0502, 0.0438, 0.0366, 0.0330,0.0328, 0.0327,\n",
    "0.0318, 0.0315, 0.0331, 0.0363, 0.0433, 0.0560, 0.0702, 0.0780, 0.0733, 0.0615, 0.0799,\n",
    "0.1468, 0.2393, 0.3408, 0.4382, 0.5196, 0.5747, 0.5959, 0.5800, 0.5295, 0.4540, 0.3712,\n",
    "0.3067, 0.2822, 0.2915, 0.3074, 0.3135, 0.3156, 0.3360, 0.3899, 0.4658, 0.5385, 0.5873,\n",
    "0.6045, 0.5975, 0.5860, 0.5901, 0.6133, 0.6377, 0.6380, 0.5951, 0.5022, 0.3669, 0.2227,\n",
    "0.1980, 0.3483, 0.5319, 0.6956, 0.8186, 0.8886, 0.8987, 0.8470, 0.7373, 0.5789, 0.3876,\n",
    "0.1898, 0.1067, 0.2472, 0.3799, 0.4620, 0.4847, 0.4492, 0.3643, 0.2463, 0.1253, 0.1068,\n",
    "0.2006, 0.2817, 0.3230, 0.3195, 0.2769, 0.2092, 0.1377, 0.0911, 0.0856, 0.0919, 0.0940,\n",
    "0.1116, 0.1568, 0.2117, 0.2548, 0.2730, 0.2623, 0.2282, 0.1857, 0.1545, 0.1445, 0.1445,\n",
    "0.1437, 0.1542]\n",
    "\n",
    "y_sample = []\n",
    "x_sample = np.linspace(min(x_np), max(x_np), len(gp_mean))\n",
    "\n",
    "y_sample = [np.random.normal(gp_mean[i], gp_stddev[i]**2, 1) for i in range(len(gp_mean))]\n",
    "    \n",
    "\n",
    "x_new = np.append(x_np, x_sample)\n",
    "y_new = np.append(y_np, y_sample)\n",
    "\n",
    "plt.scatter(x_new, y_new)\n",
    "plt.show()\n",
    "\n",
    "idx = np.argsort(x_new)\n",
    "x_sorted = x_new[idx]\n",
    "y_sorted = y_new[idx]\n",
    "\n",
    "x = torch.unsqueeze(torch.from_numpy(x_sorted), dim=1)\n",
    "y = torch.unsqueeze(torch.from_numpy(y_sorted), dim=1)\n",
    "\n",
    "x = x.float()\n",
    "y = y.float()"
   ]
  },
  {
   "cell_type": "markdown",
   "id": "046a3fb0",
   "metadata": {},
   "source": [
    "### Model"
   ]
  },
  {
   "cell_type": "code",
   "execution_count": 4,
   "id": "69990adc",
   "metadata": {},
   "outputs": [
    {
     "name": "stdout",
     "output_type": "stream",
     "text": [
      "Net(\n",
      "  (hidden1): BayesLinear(prior_mu=0, prior_sigma=0.1, in_features=1, out_features=50, bias=True)\n",
      "  (hidden2): BayesLinear(prior_mu=0, prior_sigma=0.1, in_features=50, out_features=50, bias=True)\n",
      "  (predict): BayesLinear(prior_mu=0, prior_sigma=0.1, in_features=50, out_features=2, bias=True)\n",
      ")\n"
     ]
    }
   ],
   "source": [
    "class Net(Module):\n",
    "    def __init__(self, n_feature, n_hidden, n_output):\n",
    "        super(Net, self).__init__()\n",
    "        #self.hidden1 = nn.Linear(in_features=n_feature, out_features=n_hidden, bias=True)\n",
    "        #self.hidden2 = nn.Linear(in_features=n_hidden, out_features=n_hidden, bias=True)\n",
    "        #self.predict = nn.Linear(in_features=n_hidden, out_features=n_output, bias=True)\n",
    "        self.hidden1 = BayesLinear(prior_mu=0, prior_sigma=0.1, in_features=n_feature, out_features=n_hidden, bias=True)   # hidden layer\n",
    "        self.hidden2 = BayesLinear(prior_mu=0, prior_sigma=0.1, in_features=n_hidden, out_features=n_hidden, bias=True)\n",
    "        self.predict = BayesLinear(prior_mu=0, prior_sigma=0.1, in_features=n_hidden, out_features=n_output, bias=True)   # output layer\n",
    "        \n",
    "        #self.mean_est = BayesLinear(prior_mu=0, prior_sigma=0.1, in_features=n_hidden, out_features=n_output, bias=True)\n",
    "        #self.logvar_est = BayesLinear(prior_mu=0, prior_sigma=0.1, in_features=n_hidden, out_features=n_output, bias=True)\n",
    "        \n",
    "    def forward(self, x):\n",
    "        x = torch.tanh(self.hidden1(x))      # activation function for hidden layer\n",
    "        x = torch.tanh(self.hidden2(x))\n",
    "        x = self.predict(x)              # linear output\n",
    "        \n",
    "        mu, log_std = x.chunk(2, dim=1)\n",
    "        \n",
    "        dist = Normal(mu, torch.exp(log_std))\n",
    "        #mean = self.mean_est(x)\n",
    "        #log_var = self.logvar_est(x)\n",
    "        \n",
    "        #return mean, log_var\n",
    "        return dist\n",
    "    \n",
    "net = Net(n_feature=1, n_hidden=50, n_output=2)     # define the network\n",
    "print(net)  # net architecture"
   ]
  },
  {
   "cell_type": "markdown",
   "id": "e3c53fbd",
   "metadata": {},
   "source": [
    "### BNN - With Aleatoric Uncertainty"
   ]
  },
  {
   "cell_type": "code",
   "execution_count": 8,
   "id": "3d530cc8",
   "metadata": {
    "scrolled": true
   },
   "outputs": [
    {
     "name": "stdout",
     "output_type": "stream",
     "text": [
      "- MSE : -0.23, KL : 4.70\n"
     ]
    }
   ],
   "source": [
    "net = net.float()\n",
    "\n",
    "optimizer = optim.Adam(net.parameters(),  lr=0.001)\n",
    "\n",
    "kl_loss = BKLLoss(reduction='mean', last_layer_only=False)\n",
    "kl_weight = 0.01\n",
    "\n",
    "#mse_loss = nn.MSELoss()\n",
    "\n",
    "for t in range(50000):\n",
    "    \n",
    "    optimizer.zero_grad()\n",
    "    \n",
    "    #mean, log_var = net(x)\n",
    "    distribution = net(x.float())\n",
    "    \n",
    "    kl = kl_loss(net)\n",
    "    \n",
    "    #mse = mse_loss(prediction[:,0], y.float().squeeze())\n",
    "    #distribution = Normal(mean, var)\n",
    "    \n",
    "    #nll = -1/2 * torch.log(2*math.pi*var) - (y.float()-mean)**2 / (2*var)\n",
    "    #cost = -nll.sum() + kl_weight*kl\n",
    "    #cost = -distribution.log_prob(y.float()).sum() #+ kl_weight*kl\n",
    "    cost = -distribution.log_prob(y.float()).sum(1).mean() + kl_weight*kl\n",
    "    \n",
    "    cost.backward()\n",
    "    \n",
    "    optimizer.step()\n",
    "    \n",
    "print('- MSE : %2.2f, KL : %2.2f' % (cost.item(), kl.item()))"
   ]
  },
  {
   "cell_type": "code",
   "execution_count": 9,
   "id": "0d93dfdc",
   "metadata": {},
   "outputs": [
    {
     "data": {
      "image/png": "[encoded data removed]",
      "text/plain": [
       "<Figure size 432x288 with 1 Axes>"
      ]
     },
     "metadata": {
      "needs_background": "light"
     },
     "output_type": "display_data"
    },
    {
     "data": {
      "image/png": "[encoded data removed]",
      "text/plain": [
       "<Figure size 432x288 with 1 Axes>"
      ]
     },
     "metadata": {
      "needs_background": "light"
     },
     "output_type": "display_data"
    }
   ],
   "source": [
    "prediction = net(x.float())\n",
    "mean = prediction.loc.squeeze().detach().numpy()\n",
    "std = prediction.scale.squeeze().detach().numpy()\n",
    "\n",
    "plt.figure()\n",
    "plt.scatter(x, y, label='Data')\n",
    "plt.scatter(x, mean, label='Predictions')\n",
    "plt.title('Model Predictions')\n",
    "plt.legend()\n",
    "plt.show()\n",
    "\n",
    "plt.figure()\n",
    "plt.scatter(x, y)\n",
    "plt.fill_between(x_sorted, mean - std, mean + std, color='b', alpha=0.2)\n",
    "plt.show()"
   ]
  },
  {
   "cell_type": "markdown",
   "id": "48b6d734",
   "metadata": {},
   "source": [
    "Implement mini-batches to speed up training process."
   ]
  },
  {
   "cell_type": "markdown",
   "id": "baf81835",
   "metadata": {},
   "source": [
    "### Original BNN - Without Aleatoric Uncertainty"
   ]
  },
  {
   "cell_type": "code",
   "execution_count": 3,
   "id": "12d5541b",
   "metadata": {},
   "outputs": [
    {
     "name": "stdout",
     "output_type": "stream",
     "text": [
      "Net(\n",
      "  (hidden1): BayesLinear(prior_mu=0, prior_sigma=0.1, in_features=1, out_features=100, bias=True)\n",
      "  (hidden2): BayesLinear(prior_mu=0, prior_sigma=0.1, in_features=100, out_features=100, bias=True)\n",
      "  (predict): BayesLinear(prior_mu=0, prior_sigma=0.1, in_features=100, out_features=1, bias=True)\n",
      ")\n"
     ]
    }
   ],
   "source": [
    "class Net(Module):\n",
    "    def __init__(self, n_feature, n_hidden, n_output):\n",
    "        super(Net, self).__init__()\n",
    "        self.hidden1 = BayesLinear(prior_mu=0, prior_sigma=0.1, in_features=n_feature, out_features=n_hidden, bias=True)   # hidden layer\n",
    "        self.hidden2 = BayesLinear(prior_mu=0, prior_sigma=0.1, in_features=n_hidden, out_features=n_hidden, bias=True)\n",
    "        self.predict = BayesLinear(prior_mu=0, prior_sigma=0.1, in_features=n_hidden, out_features=n_output, bias=True)   # output layer\n",
    "        \n",
    "    def forward(self, x):\n",
    "        x = torch.tanh(self.hidden1(x))      # activation function for hidden layer\n",
    "        x = torch.tanh(self.hidden2(x))\n",
    "        x = self.predict(x)              # linear output\n",
    "        \n",
    "        return x\n",
    "    \n",
    "net = Net(n_feature=1, n_hidden=100, n_output=1)     # define the network\n",
    "print(net)  # net architecture"
   ]
  },
  {
   "cell_type": "code",
   "execution_count": 4,
   "id": "47c1a604",
   "metadata": {},
   "outputs": [
    {
     "name": "stdout",
     "output_type": "stream",
     "text": [
      "- MSE : 820.39, KL : 10.51\n"
     ]
    }
   ],
   "source": [
    "net = net.float()\n",
    "\n",
    "optimizer = optim.Adam(net.parameters(), lr=0.01)\n",
    "mse_loss = nn.MSELoss()\n",
    "\n",
    "kl_loss = BKLLoss(reduction='mean', last_layer_only=False)\n",
    "kl_weight = 0.01\n",
    "\n",
    "for t in range(1000):\n",
    "    \n",
    "    optimizer.zero_grad()\n",
    "    \n",
    "    prediction = net(x.float())     # input x and predict based on x\n",
    "    \n",
    "    mse = mse_loss(prediction, y.float())\n",
    "    \n",
    "    kl = kl_loss(net)\n",
    "    \n",
    "    cost = mse + kl_weight*kl\n",
    "    \n",
    "    cost.float().backward()\n",
    "    \n",
    "    optimizer.step()\n",
    "    \n",
    "print('- MSE : %2.2f, KL : %2.2f' % (mse.item(), kl.item()))"
   ]
  },
  {
   "cell_type": "code",
   "execution_count": 5,
   "id": "d59bfe65",
   "metadata": {},
   "outputs": [
    {
     "data": {
      "image/png": "[encoded data removed]",
      "text/plain": [
       "<Figure size 432x288 with 1 Axes>"
      ]
     },
     "metadata": {
      "needs_background": "light"
     },
     "output_type": "display_data"
    }
   ],
   "source": [
    "plt.figure()\n",
    "plt.scatter(x, prediction.detach().numpy())\n",
    "plt.scatter(x, y)\n",
    "plt.show()"
   ]
  }
 ],
 "metadata": {
  "kernelspec": {
   "display_name": "Python 3 (ipykernel)",
   "language": "python",
   "name": "python3"
  },
  "language_info": {
   "codemirror_mode": {
    "name": "ipython",
    "version": 3
   },
   "file_extension": ".py",
   "mimetype": "text/x-python",
   "name": "python",
   "nbconvert_exporter": "python",
   "pygments_lexer": "ipython3",
   "version": "3.8.2"
  }
 },
 "nbformat": 4,
 "nbformat_minor": 5
}
